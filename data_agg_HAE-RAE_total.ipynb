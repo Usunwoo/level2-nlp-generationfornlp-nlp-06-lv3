{
 "cells": [
  {
   "cell_type": "code",
   "execution_count": null,
   "metadata": {},
   "outputs": [],
   "source": [
    "import os\n",
    "import re\n",
    "\n",
    "import pandas as pd\n",
    "from tqdm import tqdm"
   ]
  },
  {
   "cell_type": "code",
   "execution_count": null,
   "metadata": {},
   "outputs": [],
   "source": [
    "# HAERAE 데이터를 모두 넣어줄 빈 데이터셋을 선언한다\n",
    "train_agg = pd.read_csv(\"./data/agg_other_benchmarks/train_agg.csv\")\n",
    "data_haerae_agg = pd.DataFrame(columns=train_agg.columns)"
   ]
  },
  {
   "cell_type": "code",
   "execution_count": null,
   "metadata": {},
   "outputs": [],
   "source": [
    "# 정규표현식으로 특정 패턴의 텍스트를 추출하는 함수를 선언해준다\n",
    "\n",
    "\n",
    "def extract_before(text, keyword):\n",
    "    pattern = f\"(.*){re.escape(keyword)}\"  # 키워드 이전 모든 문자열 매칭\n",
    "    match = re.search(pattern, text)\n",
    "    if match:\n",
    "        return match.group(1).strip()  # 키워드 이전 문자열 반환\n",
    "    return None  # 키워드가 없으면 None 반환\n",
    "\n",
    "\n",
    "def extract_after(text, keyword):\n",
    "    pattern = f\"{re.escape(keyword)}(.*)\"  # 키워드 이후 모든 문자열 매칭\n",
    "    match = re.search(pattern, text)\n",
    "    if match:\n",
    "        return match.group(1).strip()  # 키워드 이후 문자열 반환\n",
    "    return None  # 키워드가 없으면 None 반환\n",
    "\n",
    "\n",
    "def extract_between(text, start_keyword, end_keyword):\n",
    "    # 시작과 끝 키워드 사이의 텍스트 추출\n",
    "    pattern = f\"{re.escape(start_keyword)}(.*?){re.escape(end_keyword)}\"\n",
    "    match = re.search(pattern, text, re.DOTALL)  # re.DOTALL은 줄바꿈 포함 매칭\n",
    "    if match:\n",
    "        return match.group(1).strip()\n",
    "    return None\n",
    "\n",
    "\n",
    "# 알파벳을 숫자로 맵핑하는 함수를 만들어준다 (answer 칼럼용)\n",
    "def convert_string_to_number(s):\n",
    "    # 문자열-숫자 매핑 딕셔너리\n",
    "    mapping = {\"(A)\": 1, \"(B)\": 2, \"(C)\": 3, \"(D)\": 4, \"(E)\": 5}\n",
    "    # 매핑에 없는 문자열은 None 반환\n",
    "    return mapping.get(s, None)"
   ]
  }
 ],
 "metadata": {
  "kernelspec": {
   "display_name": ".venv",
   "language": "python",
   "name": "python3"
  },
  "language_info": {
   "codemirror_mode": {
    "name": "ipython",
    "version": 3
   },
   "file_extension": ".py",
   "mimetype": "text/x-python",
   "name": "python",
   "nbconvert_exporter": "python",
   "pygments_lexer": "ipython3",
   "version": "3.10.13"
  }
 },
 "nbformat": 4,
 "nbformat_minor": 2
}
