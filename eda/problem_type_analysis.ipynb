{
 "cells": [
  {
   "cell_type": "code",
   "execution_count": null,
   "metadata": {},
   "outputs": [],
   "source": [
    "import os\n",
    "\n",
    "import matplotlib as mpl\n",
    "import matplotlib.pyplot as plt\n",
    "import pandas as pd\n",
    "from dotenv import load_dotenv\n",
    "from langchain_core.output_parsers import JsonOutputParser\n",
    "from langchain_core.prompts import PromptTemplate\n",
    "from langchain_openai import ChatOpenAI\n",
    "from tqdm import tqdm"
   ]
  },
  {
   "cell_type": "code",
   "execution_count": null,
   "metadata": {},
   "outputs": [
    {
     "data": {
      "text/html": [
       "<div>\n",
       "<style scoped>\n",
       "    .dataframe tbody tr th:only-of-type {\n",
       "        vertical-align: middle;\n",
       "    }\n",
       "\n",
       "    .dataframe tbody tr th {\n",
       "        vertical-align: top;\n",
       "    }\n",
       "\n",
       "    .dataframe thead th {\n",
       "        text-align: right;\n",
       "    }\n",
       "</style>\n",
       "<table border=\"1\" class=\"dataframe\">\n",
       "  <thead>\n",
       "    <tr style=\"text-align: right;\">\n",
       "      <th></th>\n",
       "      <th>id</th>\n",
       "      <th>paragraph</th>\n",
       "      <th>question</th>\n",
       "      <th>choices</th>\n",
       "      <th>answer</th>\n",
       "      <th>question_plus</th>\n",
       "    </tr>\n",
       "  </thead>\n",
       "  <tbody>\n",
       "    <tr>\n",
       "      <th>0</th>\n",
       "      <td>generation-for-nlp-425</td>\n",
       "      <td>상소하여 아뢰기를 , “신이 좌참 찬 송준길이 올린 차자를 보았는데 , 상복(喪服)...</td>\n",
       "      <td>상소한 인물이 속한 붕당에 대한 설명으로 옳은 것만을 모두 고르면?</td>\n",
       "      <td>['ㄱ, ㄴ', 'ㄱ, ㄷ', 'ㄴ, ㄹ', 'ㄷ, ㄹ']</td>\n",
       "      <td>2</td>\n",
       "      <td>ㄱ.기 사환국으로 정권을 장악하였다 .ㄴ.인 조반정을 주도 하여 집권세력이 되었다 ...</td>\n",
       "    </tr>\n",
       "    <tr>\n",
       "      <th>1</th>\n",
       "      <td>generation-for-nlp-427</td>\n",
       "      <td>나는 삼한(三韓) 산천의 음덕을 입어 대업을 이루었다.(가)는/은 수덕(水德)이 순...</td>\n",
       "      <td>(가) 지역에 대한 설명으로 옳은 것은?</td>\n",
       "      <td>['이곳에 대장도감을 설치하여 재조대장경을 만들었다.', '지눌이 이곳에서 수선사 ...</td>\n",
       "      <td>4</td>\n",
       "      <td>NaN</td>\n",
       "    </tr>\n",
       "    <tr>\n",
       "      <th>2</th>\n",
       "      <td>generation-for-nlp-428</td>\n",
       "      <td>이 날 소정방이 부총관 김인문 등과 함께 기 벌포에 도착하여 백제 군사와 마주쳤다....</td>\n",
       "      <td>밑줄 친 ‘그’에 대한 설명으로 옳은 것은?</td>\n",
       "      <td>['살수에서 수의 군대를 물리쳤다 .', '김춘추 의 신라 왕위 계승을 지원하였다 ...</td>\n",
       "      <td>2</td>\n",
       "      <td>NaN</td>\n",
       "    </tr>\n",
       "    <tr>\n",
       "      <th>3</th>\n",
       "      <td>generation-for-nlp-429</td>\n",
       "      <td>선비들 수만 명이 대궐 앞에 모여 만 동묘와 서원을 다시 설립할 것을 청하니, (가...</td>\n",
       "      <td>(가) 인물이 추진한 정책으로 옳지 않은 것은?</td>\n",
       "      <td>['사창제를 실시하였다 .', '대전회통을 편찬하였다 .', '비변사의 기능을 강화...</td>\n",
       "      <td>3</td>\n",
       "      <td>NaN</td>\n",
       "    </tr>\n",
       "    <tr>\n",
       "      <th>4</th>\n",
       "      <td>generation-for-nlp-431</td>\n",
       "      <td>(가)의 사신 고제덕 등이 일본에 와서 왕이 보낸 국서를 전하였다. 그 국서에 이르...</td>\n",
       "      <td>(가) 국가에 대한 설명으로 옳은 것은?</td>\n",
       "      <td>['나 당연합군의 공격으로 멸망하였다 .', '9주 5소경의 지방 행정 구역을 두었...</td>\n",
       "      <td>3</td>\n",
       "      <td>NaN</td>\n",
       "    </tr>\n",
       "  </tbody>\n",
       "</table>\n",
       "</div>"
      ],
      "text/plain": [
       "                       id                                          paragraph  \\\n",
       "0  generation-for-nlp-425  상소하여 아뢰기를 , “신이 좌참 찬 송준길이 올린 차자를 보았는데 , 상복(喪服)...   \n",
       "1  generation-for-nlp-427  나는 삼한(三韓) 산천의 음덕을 입어 대업을 이루었다.(가)는/은 수덕(水德)이 순...   \n",
       "2  generation-for-nlp-428  이 날 소정방이 부총관 김인문 등과 함께 기 벌포에 도착하여 백제 군사와 마주쳤다....   \n",
       "3  generation-for-nlp-429  선비들 수만 명이 대궐 앞에 모여 만 동묘와 서원을 다시 설립할 것을 청하니, (가...   \n",
       "4  generation-for-nlp-431  (가)의 사신 고제덕 등이 일본에 와서 왕이 보낸 국서를 전하였다. 그 국서에 이르...   \n",
       "\n",
       "                                question  \\\n",
       "0  상소한 인물이 속한 붕당에 대한 설명으로 옳은 것만을 모두 고르면?   \n",
       "1                 (가) 지역에 대한 설명으로 옳은 것은?   \n",
       "2               밑줄 친 ‘그’에 대한 설명으로 옳은 것은?   \n",
       "3             (가) 인물이 추진한 정책으로 옳지 않은 것은?   \n",
       "4                 (가) 국가에 대한 설명으로 옳은 것은?   \n",
       "\n",
       "                                             choices  answer  \\\n",
       "0                   ['ㄱ, ㄴ', 'ㄱ, ㄷ', 'ㄴ, ㄹ', 'ㄷ, ㄹ']       2   \n",
       "1  ['이곳에 대장도감을 설치하여 재조대장경을 만들었다.', '지눌이 이곳에서 수선사 ...       4   \n",
       "2  ['살수에서 수의 군대를 물리쳤다 .', '김춘추 의 신라 왕위 계승을 지원하였다 ...       2   \n",
       "3  ['사창제를 실시하였다 .', '대전회통을 편찬하였다 .', '비변사의 기능을 강화...       3   \n",
       "4  ['나 당연합군의 공격으로 멸망하였다 .', '9주 5소경의 지방 행정 구역을 두었...       3   \n",
       "\n",
       "                                       question_plus  \n",
       "0  ㄱ.기 사환국으로 정권을 장악하였다 .ㄴ.인 조반정을 주도 하여 집권세력이 되었다 ...  \n",
       "1                                                NaN  \n",
       "2                                                NaN  \n",
       "3                                                NaN  \n",
       "4                                                NaN  "
      ]
     },
     "execution_count": 2,
     "metadata": {},
     "output_type": "execute_result"
    }
   ],
   "source": [
    "dataset = pd.read_csv(\"../data/train_question_plus.csv\")\n",
    "dataset.head()"
   ]
  },
  {
   "cell_type": "code",
   "execution_count": null,
   "metadata": {},
   "outputs": [],
   "source": [
    "# note: dataset.head() 동작으로 칼럼 명 정보륾 확인하고 동작해주세요.\n",
    "PARAGRAPH = \"paragraph\"\n",
    "QUESTION = \"question\"\n",
    "CHOICES = \"choices\"\n",
    "ANSWER = \"answer\"\n",
    "QUESTION_PLUS = \"question_plus\""
   ]
  },
  {
   "cell_type": "markdown",
   "metadata": {},
   "source": [
    "GPT 4o mini 세팅\n"
   ]
  },
  {
   "cell_type": "code",
   "execution_count": null,
   "metadata": {},
   "outputs": [],
   "source": [
    "load_dotenv()\n",
    "OPENAI_API_KEY = os.getenv(\"OPENAI_API_KEY\")\n",
    "if not OPENAI_API_KEY:\n",
    "    raise ValueError(\"OpenAI API 키를 .env 파일에 저장하세요.\")"
   ]
  },
  {
   "cell_type": "code",
   "execution_count": null,
   "metadata": {},
   "outputs": [],
   "source": [
    "prompt = PromptTemplate.from_template(\n",
    "    \"\"\"\n",
    "### Prompt\n",
    "You are an AI trained to classify questions based on the problem-solving strategies needed, using four detailed categories.\n",
    "\n",
    "**Categories and Descriptions**:\n",
    "1. **사실 확인**: The information required to solve the question is fully contained in the paragraph. The problem-solving strategy is to compare the question and choices with the paragraph to verify factual information.\n",
    "2. **도출형 추론**: The answer requires additional linguistic inference beyond the information in the paragraph. The strategy involves processing the paragraph for insights that aren't directly stated and comparing these insights with the choices.\n",
    "3. **연결형 추론**: The solution involves understanding higher-level concepts or linking the paragraph to background knowledge. The strategy includes analyzing the paragraph's overarching theme or background to connect with the choices.\n",
    "4. **논리적 추론**: The question needs logical or numerical reasoning. The strategy requires extracting information from the paragraph and using logical/mathematical operations to deduce the correct answer.\n",
    "\n",
    "### Examples\n",
    "\n",
    "**Example 1**: 사실 확인  \n",
    "- **Paragraph:** “비잔틴의 학문과의 교류를 통해 학자 아리스토텔레스를 플라톤으로 대체하는 것이 빨라졌습니다. 이미 페레라 공의회(1438년)에서 명목상으로 동서 교회를 통합하였으며, 비잔틴 제국이 아리스토텔레스에 비해 플라톤의 우월성을 유지한 지에 대한 논쟁이 있었습니다. 코시모와 로렌초 데 메디치는 둘다 플라톤에 깊이 빠져있었으며; 코시모가 피렌체 아카데미를 설립하고 로렌초가 이를 계속 유지했으며, 이 아카데미는 주로 플라톤에 대한 연구에 전념했습니다&…그러나 당시의 인문주의자들은 고대의 지식을 습득하는 데 너무 급급하여 가치있는 무언가를 창출할 수 없었습니다.”\n",
    "- **Question:** 이 구절을 통해 페레라 공의회가 한 일을 유추할 수 있습니다\n",
    "- **Choices**\n",
    "    1. 피렌체 아카데미의 기초를 닦았습니다\n",
    "    2. 동서 교회간의 불화를 영구적으로 화해시켰습니다\n",
    "    3. 서유럽에서 고전철학의 재발견을 촉진시켰습니다\n",
    "    4. 비잔틴 제국이 피렌체의 학문을 배우는 것을 허용하였습니다\n",
    "- **Thinking**: 주어진 문단에서 페라라 공의회(1438년)가 명목상으로 동서 교회를 통합했다고 언급하고 있습니다. 이러한 통합은 비잔틴 제국과 서유럽 간의 학문적 교류를 촉진시켰으며, 특히 플라톤 철학에 대한 관심이 증가하는 계기가 되었습니다. 따라서, 페라라 공의회는 서유럽에서 고전 철학의 재발견을 촉진하는 데 중요한 역할을 했다고 볼 수 있습니다. 이러한 이유로 3번 선택지가 정답입니다.\n",
    "- **Category**: 사실 확인\n",
    "\n",
    "**Example 2**: 도출형 추론  \n",
    "- **Paragraph**\n",
    "    이 지문에 나타난 정보는 무엇입니까? 우리는 이 영구적이며 번복할 수 없는 칙령을 통해 확립하고 선포한다. \"첫째, 이전 모든 고난스러운 기간에 ... 일방 또는 타방 당사자가 행한 모든 일에 대한 기억은, 마치 전혀 일어나지 않았던 것처럼 말소하고 잊는다. … \"우리는 우리 왕국과 우리 지배를 받는 나라, 그 행사가 중단된 나라의 모든 장소와 지방에서 가톨릭 사도와 로마 종교가 여하한 문제나 방해 없이 행사 평화롭고 자유롭게 행해지도록 회복 및 재건될 것을 명한다. … \"그리고 우리 백성들 사이 분쟁이나 의견차가 발생할 여지를 남기지 않고자, 우리는 개혁파라 불리는 종교가 우리 왕국과 우리가 지배하는 국가의 모든 도시와 장소에서 방해 받거나, 추행을 당하거나, 종교 문제에 있어 양심에 어긋나는 일을 하도록 강요당하지 않으며 살고 거주하도록 허용해 왔고 지금 이로써 허용한다. …\" 프랑스의 앙리 4세, 낭트 칙령, 1598년\n",
    "- **Question**        \n",
    "    본문을 통해 추론할 수 있는 점을 고르십시오.\n",
    "- **Choices**\n",
    "    1. 헨리 4세는 가톨릭 신자였습니다.\n",
    "    2. 헨리 4세는 개신교인이었습니다.\n",
    "    3. 1598년 이전 프랑스에는 종교적 갈등이 없었습니다.\n",
    "    4. 1598년 이전 프랑스는 종교적 갈등에 시달렸습니다.\n",
    "- **Thinking**: 문단에서 \"이전 모든 고난스러운 기간에 ... 일방 또는 타방 당사자가 행한 모든 일에 대한 기억은, 마치 전혀 일어나지 않았던 것처럼 말소하고 잊는다.\"라고 언급하고 있습니다. 이는 과거의 갈등과 분쟁을 잊고자 하는 의도를 나타내며, 따라서 1598년 이전에 프랑스가 종교적 갈등을 겪었음을 추론할 수 있습니다. 따라서 4번 선택지가 정답입니다.\n",
    "- **Category**: 도출형 추론\n",
    "\n",
    "**Example 3**: 연결형 추론  \n",
    "- **Paragraph**: 상소하여 아뢰기를 , “신이 좌참 찬 송준길이 올린 차자를 보았는데 , 상복(喪服) 절차에 대하여 논한 것이 신과는 큰 차이가 있었습니다 . 장자를 위하여 3년을 입는 까닭은 위로 ‘정체(正體)’가 되기 때문이고 또 전 중(傳重: 조상의 제사나 가문의 법통을 전함)하기 때문입니다 . …(중략) … 무엇보다 중요한 것은 할아버지와 아버지의 뒤를 이은 ‘정체’이지, 꼭 첫째이기 때문에 참 최 3년 복을 입는 것은 아닙니다 .”라고 하였다 .－현종실록 －\n",
    "- **Question**: 상소한 인물이 속한 붕당에 대한 설명으로 옳은 것만을 모두 고르면?\n",
    "- **Choices**\n",
    "    1. 기 사환국으로 정권을 장악하였다 .\n",
    "    2. 인 조반정을 주도 하여 집권세력이 되었다 .\n",
    "    3. 정조 시기에 탕평 정치의 한 축을 이루었다 .\n",
    "    4. 이 이와 성혼의 문인을 중심으로 형성되었다.\n",
    "- **Thinking**: 주어진 문단은 조선 시대 예송 논쟁 중 송준길의 상소 내용을 담고 있습니다. 송준길은 서인(西人) 붕당의 주요 인물로, 서인은 1623년 인조반정을 주도하여 집권 세력이 되었습니다. 따라서, 상소한 인물이 속한 붕당에 대한 설명으로 2번 선택지인 \"인조반정을 주도하여 집권세력이 되었다\"가 옳습니다.\n",
    "- **Category**: 연결형 추론\n",
    "\n",
    "**Example 4**: 논리적 추론  \n",
    "- **Paragraph**: 총 공급 곡선이 왼쪽으로 이동하면 균형 물가 수준과 균형 산출량은 어떻게 되겠습니까? 총 공급 곡선이 위로 기울어진다고 가정합니다.\n",
    "- **Question:** 총 공급 곡선이 왼쪽으로 이동하면 균형 물가 수준과 균형 산출량은 어떻게 되겠습니까?\n",
    "- **Choices**\n",
    "    1. 균형 물가 수준은 증가하는 반면 균형 산출량은 감소한다.\n",
    "    2. 균형 물가 수준은 감소하는 반면 균형 산출량은 증가한다.\n",
    "    3. 균형 물가 수준과 산출량이 증가한다.\n",
    "    4. 균형 물가 수준과 산출량이 감소한다.\n",
    "- **Thinking**: 총공급곡선이 왼쪽으로 이동하면, 이는 생산 비용 증가나 생산성 감소 등으로 인해 기업들이 동일한 물가 수준에서 이전보다 적은 양을 생산하려는 상황을 나타냅니다. 이러한 변화는 경제의 균형점에서 다음과 같은 결과를 초래합니다: 균형 물가 수준의 상승: 총공급이 감소하면 시장에서 재화와 서비스의 공급이 줄어들어 희소성이 증가합니다. 이로 인해 가격이 상승하여 균형 물가 수준이 높아집니다. 균형 산출량의 감소: 공급 감소로 인해 전체 생산량이 줄어들어 균형 산출량이 감소합니다. 따라서, 총공급곡선이 왼쪽으로 이동하면 균형 물가 수준은 증가하고 균형 산출량은 감소하게 되므로, 1번 선택지가 정답입니다.\n",
    "- **Category**: 논리적 추론\n",
    "\n",
    "**Now, your task**:  \n",
    "Classify the following question based on the paragraph and problem-solving strategy needed.\n",
    "\n",
    "- **Paragraph**: {paragraph}  \n",
    "- **Question**: {question}  \n",
    "- **Choices**: {choices}\n",
    "- **thinking**: YOUR ANSWER\n",
    "- **Category**: YOUR ANSWER\n",
    "\n",
    "Return a JSON output with the following keys:\n",
    "- \"thinking\": A brief explanation of why this category was chosen based on the given strategy and paragraph.\n",
    "- \"category\": The classified category name.\n",
    "\"\"\"\n",
    ")\n",
    "\n",
    "output_parser = JsonOutputParser()"
   ]
  },
  {
   "cell_type": "code",
   "execution_count": null,
   "metadata": {},
   "outputs": [],
   "source": [
    "llm = ChatOpenAI(\n",
    "    model=\"gpt-4o-mini\", temperature=0, max_tokens=None, timeout=None, max_retries=2, api_key=OPENAI_API_KEY\n",
    ")\n",
    "\n",
    "chain = prompt | llm | output_parser"
   ]
  },
  {
   "cell_type": "code",
   "execution_count": null,
   "metadata": {},
   "outputs": [
    {
     "name": "stdout",
     "output_type": "stream",
     "text": [
      "테스트 데이터: id                                         generation-for-nlp-1647\n",
      "paragraph        매장에서 스트리밍 서비스로 음악을 틀 때도 연주자와 음반 제작자에게 저작권 사용료를...\n",
      "question         대법원이 스트리밍 서비스로 음악을 틀 때 저작권 사용료를 지급해야 한다고 판결한 이...\n",
      "choices          ['스트리밍이 판매용 음반으로 간주되기 때문', '저작권법이 개정되었기 때문', '...\n",
      "answer                                                           1\n",
      "question_plus                                                  NaN\n",
      "Name: 1000, dtype: object, 테스트 결과: ('사실 확인', \"대법원은 스트리밍 서비스가 판매용 음반으로 간주될 수 있다고 판결하였고, 이는 음악 소비 양식의 변화에 따라 저작권 사용료 지급의 필요성을 인정한 것입니다. 따라서, 스트리밍이 판매용 음반으로 간주되기 때문이라는 선택지가 정답입니다. 이 질문은 주어진 문단에서 직접적으로 언급된 정보를 바탕으로 사실을 확인하는 것이므로 '사실 확인' 카테고리에 해당합니다.\")\n"
     ]
    }
   ],
   "source": [
    "def classify_problem(data: pd.Series) -> tuple[str, str]:\n",
    "    \"\"\"프롬프트에 따라 LLM이 문제 데이터를 분류하고 결과를 문자열로 반환하는 함수\n",
    "\n",
    "    Args:\n",
    "        data (pd.Series): 제공된 데이터셋의 한 행(row), 문제 하나\n",
    "\n",
    "    Returns:\n",
    "        tuple[str, str]: 문제가 분류된 카테고리와 도출된 이유\n",
    "    \"\"\"\n",
    "    response = chain.invoke(\n",
    "        {\"paragraph\": test_data[PARAGRAPH], \"choices\": test_data[CHOICES], \"question\": test_data[QUESTION]}\n",
    "    )\n",
    "    category, reason = response[\"category\"], response[\"thinking\"]\n",
    "    return category, reason\n",
    "\n",
    "\n",
    "# test\n",
    "test_data = dataset.iloc[1000]\n",
    "test_results = classify_problem(test_data)\n",
    "print(f\"테스트 데이터: {test_data}, 테스트 결과: {test_results}\")"
   ]
  },
  {
   "cell_type": "markdown",
   "metadata": {},
   "source": [
    "# 사전 실험 1: 랜덤하게 100개 데이터를 추출해서 유형 분석해보기\n"
   ]
  },
  {
   "cell_type": "code",
   "execution_count": null,
   "metadata": {},
   "outputs": [],
   "source": [
    "tqdm.pandas()"
   ]
  },
  {
   "cell_type": "code",
   "execution_count": null,
   "metadata": {},
   "outputs": [
    {
     "name": "stderr",
     "output_type": "stream",
     "text": [
      "100%|██████████| 100/100 [03:57<00:00,  2.38s/it]\n"
     ]
    }
   ],
   "source": [
    "sampled_dataset = dataset.sample(100)\n",
    "sampled_dataset[\"category\"] = sampled_dataset.progress_apply(lambda x: classify_problem(x)[0], axis=1)\n",
    "# m2max 로컬 기준 4:20초 정도 걸림"
   ]
  },
  {
   "cell_type": "code",
   "execution_count": null,
   "metadata": {},
   "outputs": [],
   "source": [
    "mpl.rcParams[\"font.family\"] = \"AppleGothic\"\n",
    "mpl.rcParams[\"axes.unicode_minus\"] = False"
   ]
  },
  {
   "cell_type": "code",
   "execution_count": null,
   "metadata": {},
   "outputs": [
    {
     "data": {
      "image/png": "[encoded data removed]",
      "text/plain": [
       "<Figure size 800x600 with 1 Axes>"
      ]
     },
     "metadata": {},
     "output_type": "display_data"
    }
   ],
   "source": [
    "category_counts = sampled_dataset[\"category\"].value_counts()\n",
    "\n",
    "plt.figure(figsize=(8, 6))\n",
    "category_counts.plot(kind=\"bar\")\n",
    "plt.title(\"카테고리 분포\")\n",
    "plt.xlabel(\"카테고리\")\n",
    "plt.ylabel(\"개수\")\n",
    "plt.show()"
   ]
  },
  {
   "cell_type": "markdown",
   "metadata": {},
   "source": [
    "# 전체 데이터에 대해 분류 진행\n"
   ]
  },
  {
   "cell_type": "code",
   "execution_count": null,
   "metadata": {},
   "outputs": [
    {
     "name": "stderr",
     "output_type": "stream",
     "text": [
      "100%|██████████| 2029/2029 [1:28:29<00:00,  2.62s/it]\n"
     ]
    }
   ],
   "source": [
    "dataset[[\"category\", \"reason\"]] = dataset.progress_apply(lambda x: pd.Series(classify_problem(x)), axis=1)"
   ]
  },
  {
   "cell_type": "code",
   "execution_count": 26,
   "metadata": {},
   "outputs": [
    {
     "data": {
      "image/png": "[encoded data removed]",
      "text/plain": [
       "<Figure size 800x600 with 1 Axes>"
      ]
     },
     "metadata": {},
     "output_type": "display_data"
    }
   ],
   "source": [
    "category_counts = dataset[\"category\"].value_counts()\n",
    "\n",
    "plt.figure(figsize=(8, 6))\n",
    "category_counts.plot(kind=\"bar\")\n",
    "plt.title(\"전체 데이터 카테고리 분포\")\n",
    "plt.xlabel(\"카테고리\")\n",
    "plt.ylabel(\"개수\")\n",
    "plt.show()"
   ]
  },
  {
   "cell_type": "code",
   "execution_count": null,
   "metadata": {},
   "outputs": [],
   "source": [
    "dataset.to_csv(\"../data/train_problem_categorized.csv\")"
   ]
  }
 ],
 "metadata": {
  "kernelspec": {
   "display_name": ".venv",
   "language": "python",
   "name": "python3"
  },
  "language_info": {
   "codemirror_mode": {
    "name": "ipython",
    "version": 3
   },
   "file_extension": ".py",
   "mimetype": "text/x-python",
   "name": "python",
   "nbconvert_exporter": "python",
   "pygments_lexer": "ipython3",
   "version": "3.11.0"
  }
 },
 "nbformat": 4,
 "nbformat_minor": 2
}
