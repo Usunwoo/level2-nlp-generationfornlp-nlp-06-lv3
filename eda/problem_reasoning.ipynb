{
 "cells": [
  {
   "cell_type": "code",
   "execution_count": null,
   "metadata": {},
   "outputs": [],
   "source": [
    "%cd .."
   ]
  },
  {
   "cell_type": "code",
   "execution_count": null,
   "metadata": {},
   "outputs": [],
   "source": [
    "import os\n",
    "\n",
    "import pandas as pd\n",
    "from dotenv import load_dotenv\n",
    "from langchain_core.prompts import PromptTemplate\n",
    "from langchain_openai import ChatOpenAI\n",
    "from tqdm import tqdm\n",
    "\n",
    "from prompts import load_template\n",
    "from utils import DataVersionManager"
   ]
  },
  {
   "cell_type": "code",
   "execution_count": null,
   "metadata": {},
   "outputs": [],
   "source": [
    "load_dotenv()\n",
    "dvm = DataVersionManager()"
   ]
  },
  {
   "cell_type": "code",
   "execution_count": null,
   "metadata": {},
   "outputs": [],
   "source": [
    "df = dvm.search_latest_train_data()\n",
    "df.head()"
   ]
  },
  {
   "cell_type": "code",
   "execution_count": null,
   "metadata": {},
   "outputs": [],
   "source": [
    "PARAGRAPH = \"paragraph\"\n",
    "QUESTION = \"question\"\n",
    "CHOICES = \"choices\"\n",
    "QUESTION_PLUS = \"question_plus\"\n",
    "ANSWER = \"answer\"\n",
    "REASONING = \"reasoning\""
   ]
  },
  {
   "cell_type": "code",
   "execution_count": null,
   "metadata": {},
   "outputs": [],
   "source": [
    "prompt = PromptTemplate.from_template(\n",
    "    template=load_template(file_name=\"reasoning.txt\", template_type=\"keyword_extraction\")\n",
    ")\n",
    "llm = ChatOpenAI(\n",
    "    model=\"gpt-4o-mini\",\n",
    "    temperature=0,\n",
    "    max_tokens=None,\n",
    "    timeout=None,\n",
    "    max_retries=2,\n",
    "    api_key=os.getenv(\"OPENAI_API_KEY\"),\n",
    ")\n",
    "chain = prompt | llm"
   ]
  },
  {
   "cell_type": "code",
   "execution_count": null,
   "metadata": {},
   "outputs": [],
   "source": [
    "def infer(row: pd.Series) -> str:\n",
    "    response = chain.invoke(\n",
    "        {\n",
    "            \"paragraph\": row[PARAGRAPH],\n",
    "            \"question\": row[QUESTION],\n",
    "            \"question_plus\": row[QUESTION_PLUS],\n",
    "            \"choices\": row[CHOICES],\n",
    "            \"answer\": row[ANSWER],\n",
    "        },\n",
    "    )\n",
    "    return response.content"
   ]
  },
  {
   "cell_type": "code",
   "execution_count": null,
   "metadata": {},
   "outputs": [],
   "source": [
    "tqdm.pandas()\n",
    "sampled_df: pd.DataFrame = df.sample(20, random_state=1004)\n",
    "sampled_df[\"reasoning\"] = sampled_df.progress_apply(lambda row: infer(row), axis=1)\n",
    "sampled_df.head()"
   ]
  },
  {
   "cell_type": "code",
   "execution_count": null,
   "metadata": {},
   "outputs": [],
   "source": [
    "sampled_df.to_csv(dvm.update_file_path(1, 0, is_experiment=False, save_in_experiment=True), index=False)"
   ]
  }
 ],
 "metadata": {
  "kernelspec": {
   "display_name": ".venv",
   "language": "python",
   "name": "python3"
  },
  "language_info": {
   "codemirror_mode": {
    "name": "ipython",
    "version": 3
   },
   "file_extension": ".py",
   "mimetype": "text/x-python",
   "name": "python",
   "nbconvert_exporter": "python",
   "pygments_lexer": "ipython3",
   "version": "3.11.0"
  }
 },
 "nbformat": 4,
 "nbformat_minor": 2
}
