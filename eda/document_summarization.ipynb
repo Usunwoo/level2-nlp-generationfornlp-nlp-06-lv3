{
 "cells": [
  {
   "cell_type": "code",
   "execution_count": 1,
   "metadata": {},
   "outputs": [
    {
     "name": "stdout",
     "output_type": "stream",
     "text": [
      "/data/ephemeral/gamchan/level2-nlp-generationfornlp-nlp-06-lv3\n"
     ]
    },
    {
     "name": "stderr",
     "output_type": "stream",
     "text": [
      "/data/ephemeral/gamchan/level2-nlp-generationfornlp-nlp-06-lv3/.venv/lib/python3.10/site-packages/IPython/core/magics/osm.py:417: UserWarning: This is now an optional IPython functionality, setting dhist requires you to install the `pickleshare` library.\n",
      "  self.shell.db['dhist'] = compress_dhist(dhist)[-100:]\n"
     ]
    }
   ],
   "source": [
    "%cd .."
   ]
  },
  {
   "cell_type": "code",
   "execution_count": null,
   "metadata": {},
   "outputs": [
    {
     "name": "stderr",
     "output_type": "stream",
     "text": [
      "/data/ephemeral/gamchan/level2-nlp-generationfornlp-nlp-06-lv3/.venv/lib/python3.10/site-packages/tqdm/auto.py:21: TqdmWarning: IProgress not found. Please update jupyter and ipywidgets. See https://ipywidgets.readthedocs.io/en/stable/user_install.html\n",
      "  from .autonotebook import tqdm as notebook_tqdm\n"
     ]
    }
   ],
   "source": [
    "import os\n",
    "\n",
    "import pandas as pd\n",
    "from dotenv import load_dotenv\n",
    "from langchain_core.prompts import PromptTemplate\n",
    "from langchain_openai import ChatOpenAI\n",
    "from tqdm import tqdm\n",
    "from tqdm.asyncio import tqdm\n",
    "\n",
    "from prompts import load_template\n",
    "from utils import DataVersionManager"
   ]
  },
  {
   "cell_type": "code",
   "execution_count": null,
   "metadata": {},
   "outputs": [],
   "source": [
    "load_dotenv()\n",
    "dvm = DataVersionManager()\n",
    "\n",
    "PARAGRAPH = \"paragraph\"\n",
    "QUESTION = \"question\"\n",
    "CHOICES = \"choices\"\n",
    "QUESTION_PLUS = \"question_plus\"\n",
    "ANSWER = \"answer\"\n",
    "REASONING = \"reasoning\""
   ]
  },
  {
   "cell_type": "code",
   "execution_count": null,
   "metadata": {},
   "outputs": [],
   "source": [
    "# 현재 실험은 3.1.x 입니다.\n",
    "df = dvm.search_experiments_integration_data(is_experiment=False)\n",
    "df.head()"
   ]
  },
  {
   "cell_type": "code",
   "execution_count": null,
   "metadata": {},
   "outputs": [],
   "source": [
    "prompt = PromptTemplate.from_template(\n",
    "    template=load_template(file_name=\"page_summarization.txt\", template_type=\"paragraph_generation\")\n",
    ")"
   ]
  },
  {
   "cell_type": "code",
   "execution_count": null,
   "metadata": {},
   "outputs": [],
   "source": [
    "llm = ChatOpenAI(\n",
    "    model=\"gpt-4o-mini\",\n",
    "    temperature=0,\n",
    "    max_tokens=None,\n",
    "    timeout=None,\n",
    "    max_retries=2,\n",
    "    api_key=os.getenv(\"OPENAI_API_KEY\"),\n",
    ")\n",
    "\n",
    "summarizer = prompt | llm"
   ]
  },
  {
   "cell_type": "code",
   "execution_count": null,
   "metadata": {},
   "outputs": [],
   "source": [
    "def summarize(row: pd.Series) -> str:\n",
    "    \"\"\"\n",
    "    위키피디아 문서를 요약하는 함수\n",
    "\n",
    "    Args:\n",
    "        row (pd.Series): 제공된 데이터셋의 한 행(row), 문제 하나\n",
    "\n",
    "    Returns:\n",
    "        str: 추출된 5개 키워드\n",
    "    \"\"\"\n",
    "\n",
    "    keywords_list = [row[f\"keyword_{idx}\"] for idx in range(1, 6)]\n",
    "    keywords = \", \".join(keywords_list)\n",
    "    documents = \"\\n\".join([row[f\"keyword_{i}_page\"] for i in range(1, 6)])\n",
    "\n",
    "    response = summarizer.invoke(\n",
    "        {\n",
    "            \"keywords\": keywords,\n",
    "            \"documents\": documents,\n",
    "        },\n",
    "    )\n",
    "    return response.content\n",
    "\n",
    "\n",
    "tqdm.pandas()\n",
    "sampled_df = df.sample(20, random_state=1004)\n",
    "sampled_df[f\"summarized_wikipedia\"] = sampled_df.progress_apply(lambda row: summarize(row), axis=1)\n",
    "\n",
    "sampled_df.head()"
   ]
  },
  {
   "cell_type": "code",
   "execution_count": null,
   "metadata": {},
   "outputs": [],
   "source": [
    "# 현재 실험은 3.1.x 입니다.\n",
    "sampled_df.to_csv(dvm.update_file_path(3, 1, save_in_experiment=True), index=False)"
   ]
  }
 ],
 "metadata": {
  "kernelspec": {
   "display_name": ".venv",
   "language": "python",
   "name": "python3"
  },
  "language_info": {
   "codemirror_mode": {
    "name": "ipython",
    "version": 3
   },
   "file_extension": ".py",
   "mimetype": "text/x-python",
   "name": "python",
   "nbconvert_exporter": "python",
   "pygments_lexer": "ipython3",
   "version": "3.11.0"
  }
 },
 "nbformat": 4,
 "nbformat_minor": 2
}
