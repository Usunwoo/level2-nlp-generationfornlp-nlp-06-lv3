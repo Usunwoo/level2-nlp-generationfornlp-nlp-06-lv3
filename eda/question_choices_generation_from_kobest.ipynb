{
 "cells": [
  {
   "cell_type": "code",
   "execution_count": 1,
   "metadata": {},
   "outputs": [
    {
     "name": "stdout",
     "output_type": "stream",
     "text": [
      "/Users/chan/boostcamp-project/level2-nlp-generationfornlp-nlp-06-lv3\n"
     ]
    },
    {
     "name": "stderr",
     "output_type": "stream",
     "text": [
      "/Users/chan/boostcamp-project/level2-nlp-generationfornlp-nlp-06-lv3/.venv/lib/python3.11/site-packages/IPython/core/magics/osm.py:417: UserWarning: This is now an optional IPython functionality, setting dhist requires you to install the `pickleshare` library.\n",
      "  self.shell.db['dhist'] = compress_dhist(dhist)[-100:]\n"
     ]
    }
   ],
   "source": [
    "%cd .."
   ]
  },
  {
   "cell_type": "code",
   "execution_count": null,
   "metadata": {},
   "outputs": [
    {
     "name": "stderr",
     "output_type": "stream",
     "text": [
      "/Users/chan/boostcamp-project/level2-nlp-generationfornlp-nlp-06-lv3/.venv/lib/python3.11/site-packages/tqdm/auto.py:21: TqdmWarning: IProgress not found. Please update jupyter and ipywidgets. See https://ipywidgets.readthedocs.io/en/stable/user_install.html\n",
      "  from .autonotebook import tqdm as notebook_tqdm\n"
     ]
    }
   ],
   "source": [
    "import os\n",
    "\n",
    "import pandas as pd\n",
    "from datasets import load_dataset\n",
    "from dotenv import load_dotenv\n",
    "from langchain.output_parsers import BooleanOutputParser, OutputFixingParser\n",
    "from langchain_core.output_parsers import JsonOutputParser\n",
    "from langchain_core.prompts import PromptTemplate\n",
    "from langchain_openai import ChatOpenAI\n",
    "from tqdm import tqdm\n",
    "\n",
    "from prompts import load_template"
   ]
  },
  {
   "cell_type": "code",
   "execution_count": null,
   "metadata": {},
   "outputs": [],
   "source": [
    "load_dotenv()\n",
    "\n",
    "PARAGRAPH = \"paragraph\"\n",
    "QUESTION = \"question\"\n",
    "CHOICES = \"choices\"\n",
    "ANSWER = \"answer\"\n",
    "\n",
    "VALID = \"is_valid\"\n",
    "\n",
    "dataset = load_dataset(\"skt/kobest_v1\", \"boolq\")"
   ]
  },
  {
   "cell_type": "code",
   "execution_count": null,
   "metadata": {},
   "outputs": [
    {
     "data": {
      "text/html": [
       "<div>\n",
       "<style scoped>\n",
       "    .dataframe tbody tr th:only-of-type {\n",
       "        vertical-align: middle;\n",
       "    }\n",
       "\n",
       "    .dataframe tbody tr th {\n",
       "        vertical-align: top;\n",
       "    }\n",
       "\n",
       "    .dataframe thead th {\n",
       "        text-align: right;\n",
       "    }\n",
       "</style>\n",
       "<table border=\"1\" class=\"dataframe\">\n",
       "  <thead>\n",
       "    <tr style=\"text-align: right;\">\n",
       "      <th></th>\n",
       "      <th>paragraph</th>\n",
       "      <th>question</th>\n",
       "      <th>label</th>\n",
       "    </tr>\n",
       "  </thead>\n",
       "  <tbody>\n",
       "    <tr>\n",
       "      <th>0</th>\n",
       "      <td>로마 시대의 오리엔트의 범위는 제국 내에 동부 지방은 물론 제국 외부에 있는 다른 ...</td>\n",
       "      <td>오리엔트는 인도와 중국, 일본을 이루는 광범위한 지역을 지칭하는 단어로 쓰인다.</td>\n",
       "      <td>1</td>\n",
       "    </tr>\n",
       "    <tr>\n",
       "      <th>1</th>\n",
       "      <td>비글을 키우려면 비글이 뛰어놀수 있는 넓은 놀이공간 등을 확보하고 있는 단독주택이 ...</td>\n",
       "      <td>비글은 넓고 뚤린 공간에서 키워야 한다.</td>\n",
       "      <td>1</td>\n",
       "    </tr>\n",
       "    <tr>\n",
       "      <th>2</th>\n",
       "      <td>타이완 요리의 특징은 토속 요리(일본 통치 전)에서 기름을 많이 사용하는 다른 지역...</td>\n",
       "      <td>타이완 요리는 다른 지역의 중국 요리처럼 기름을 많이 사용하는 것이다.</td>\n",
       "      <td>0</td>\n",
       "    </tr>\n",
       "    <tr>\n",
       "      <th>3</th>\n",
       "      <td>연하곤란은 음식물이 구강에서 식도로 넘어가는 과정에 문제가 생겨 음식을 원활히 혹은...</td>\n",
       "      <td>연하곤란이 생기면 식도가 막히나요?</td>\n",
       "      <td>0</td>\n",
       "    </tr>\n",
       "    <tr>\n",
       "      <th>4</th>\n",
       "      <td>인문과학 또는 인문학(人文學, 영어: humanities)은 인간과 인간의 근원문제...</td>\n",
       "      <td>인문과학은 경험적인 접근을 주로 사용하는가?</td>\n",
       "      <td>0</td>\n",
       "    </tr>\n",
       "  </tbody>\n",
       "</table>\n",
       "</div>"
      ],
      "text/plain": [
       "                                           paragraph  \\\n",
       "0  로마 시대의 오리엔트의 범위는 제국 내에 동부 지방은 물론 제국 외부에 있는 다른 ...   \n",
       "1  비글을 키우려면 비글이 뛰어놀수 있는 넓은 놀이공간 등을 확보하고 있는 단독주택이 ...   \n",
       "2  타이완 요리의 특징은 토속 요리(일본 통치 전)에서 기름을 많이 사용하는 다른 지역...   \n",
       "3  연하곤란은 음식물이 구강에서 식도로 넘어가는 과정에 문제가 생겨 음식을 원활히 혹은...   \n",
       "4  인문과학 또는 인문학(人文學, 영어: humanities)은 인간과 인간의 근원문제...   \n",
       "\n",
       "                                       question  label  \n",
       "0  오리엔트는 인도와 중국, 일본을 이루는 광범위한 지역을 지칭하는 단어로 쓰인다.      1  \n",
       "1                        비글은 넓고 뚤린 공간에서 키워야 한다.      1  \n",
       "2       타이완 요리는 다른 지역의 중국 요리처럼 기름을 많이 사용하는 것이다.      0  \n",
       "3                           연하곤란이 생기면 식도가 막히나요?      0  \n",
       "4                      인문과학은 경험적인 접근을 주로 사용하는가?      0  "
      ]
     },
     "execution_count": 4,
     "metadata": {},
     "output_type": "execute_result"
    }
   ],
   "source": [
    "train_df = pd.DataFrame(dataset[\"train\"])\n",
    "valid_df = pd.DataFrame(dataset[\"validation\"])\n",
    "test_df = pd.DataFrame(dataset[\"test\"])\n",
    "\n",
    "kobest_df = pd.concat([train_df, valid_df, test_df])\n",
    "kobest_df.head()"
   ]
  },
  {
   "cell_type": "code",
   "execution_count": null,
   "metadata": {},
   "outputs": [],
   "source": [
    "kobest_df.to_csv(\"data/kobest/kobest.csv\", index=False)"
   ]
  },
  {
   "cell_type": "code",
   "execution_count": null,
   "metadata": {},
   "outputs": [],
   "source": [
    "generation_prompt = PromptTemplate.from_template(\n",
    "    load_template(file_name=\"question_choices_generation.txt\", template_type=\"question_choices_generation\")\n",
    ")\n",
    "\n",
    "llm = ChatOpenAI(\n",
    "    model=\"gpt-4o-mini\",\n",
    "    temperature=0,\n",
    "    max_tokens=None,\n",
    "    timeout=None,\n",
    "    max_retries=2,\n",
    "    api_key=os.getenv(\"OPENAI_API_KEY\"),\n",
    ")\n",
    "\n",
    "output_parser = JsonOutputParser()\n",
    "\n",
    "fixing_parser = OutputFixingParser.from_llm(parser=output_parser, llm=llm)\n",
    "\n",
    "problem_generator = generation_prompt | llm | fixing_parser"
   ]
  },
  {
   "cell_type": "code",
   "execution_count": null,
   "metadata": {},
   "outputs": [
    {
     "name": "stderr",
     "output_type": "stream",
     "text": [
      " 20%|██        | 4/20 [00:08<00:35,  2.23s/it]"
     ]
    }
   ],
   "source": [
    "def generate_problem(data: pd.Series):\n",
    "    response = problem_generator.invoke({PARAGRAPH: data[PARAGRAPH]})\n",
    "    return response[QUESTION], response[CHOICES], response[ANSWER]\n",
    "\n",
    "\n",
    "tqdm.pandas()\n",
    "sampled_df = kobest_df.sample(20, random_state=1004)\n",
    "sampled_df[\"result\"] = sampled_df.progress_apply(generate_problem, axis=1)\n",
    "\n",
    "# 결과 분리\n",
    "sampled_df[QUESTION] = sampled_df[\"result\"].apply(lambda x: x[0])\n",
    "sampled_df[CHOICES] = sampled_df[\"result\"].apply(lambda x: x[1])\n",
    "sampled_df[ANSWER] = sampled_df[\"result\"].apply(lambda x: x[2])\n",
    "\n",
    "# 임시 열 삭제\n",
    "sampled_df.drop(columns=[\"result\", \"label\"], inplace=True)\n",
    "\n",
    "sampled_df.head()"
   ]
  },
  {
   "cell_type": "code",
   "execution_count": null,
   "metadata": {},
   "outputs": [],
   "source": [
    "sampled_df.to_csv(\"data/experiments/kobest_exp_v4.0.1.csv\", index=False)"
   ]
  },
  {
   "cell_type": "code",
   "execution_count": null,
   "metadata": {},
   "outputs": [],
   "source": [
    "validation_prompt = PromptTemplate(\n",
    "    load_template(file_name=\"validation.txt\", template_type=\"question_choices_generation\")\n",
    ")\n",
    "\n",
    "llm = ChatOpenAI(\n",
    "    model=\"gpt-4o-mini\",\n",
    "    temperature=0,\n",
    "    max_tokens=None,\n",
    "    timeout=None,\n",
    "    max_retries=2,\n",
    "    api_key=os.getenv(\"OPENAI_API_KEY\"),\n",
    ")\n",
    "\n",
    "output_parser = BooleanOutputParser()\n",
    "\n",
    "fixing_parser = OutputFixingParser.from_llm(parser=output_parser, llm=llm)\n",
    "\n",
    "validator = validation_prompt | llm | fixing_parser"
   ]
  },
  {
   "cell_type": "code",
   "execution_count": null,
   "metadata": {},
   "outputs": [],
   "source": [
    "def validate_problem(data: pd.Series):\n",
    "    response = validator.invoke(\n",
    "        {PARAGRAPH: data[PARAGRAPH], QUESTION: data[QUESTION], CHOICES: data[CHOICES], ANSWER: data[ANSWER]}\n",
    "    )\n",
    "    return response\n",
    "\n",
    "\n",
    "tqdm.pandas()\n",
    "sampled_df = kobest_df.sample(20, random_state=1004)\n",
    "sampled_df[VALID] = sampled_df.progress_apply(generate_problem, axis=1)\n",
    "\n",
    "sampled_df.head()"
   ]
  },
  {
   "cell_type": "code",
   "execution_count": null,
   "metadata": {},
   "outputs": [],
   "source": [
    "sampled_df.to_csv(\"data/experiments/kobest_exp_v4.0.1.csv\", index=False)"
   ]
  }
 ],
 "metadata": {
  "kernelspec": {
   "display_name": ".venv",
   "language": "python",
   "name": "python3"
  },
  "language_info": {
   "codemirror_mode": {
    "name": "ipython",
    "version": 3
   },
   "file_extension": ".py",
   "mimetype": "text/x-python",
   "name": "python",
   "nbconvert_exporter": "python",
   "pygments_lexer": "ipython3",
   "version": "3.11.0"
  }
 },
 "nbformat": 4,
 "nbformat_minor": 2
}
