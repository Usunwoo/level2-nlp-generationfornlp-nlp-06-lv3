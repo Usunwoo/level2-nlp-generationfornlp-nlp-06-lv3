{
 "cells": [
  {
   "cell_type": "code",
   "execution_count": 1,
   "metadata": {},
   "outputs": [
    {
     "name": "stdout",
     "output_type": "stream",
     "text": [
      "/Users/chan/boostcamp-project/level2-nlp-generationfornlp-nlp-06-lv3\n"
     ]
    },
    {
     "name": "stderr",
     "output_type": "stream",
     "text": [
      "/Users/chan/boostcamp-project/level2-nlp-generationfornlp-nlp-06-lv3/.venv/lib/python3.11/site-packages/IPython/core/magics/osm.py:417: UserWarning: This is now an optional IPython functionality, setting dhist requires you to install the `pickleshare` library.\n",
      "  self.shell.db['dhist'] = compress_dhist(dhist)[-100:]\n"
     ]
    }
   ],
   "source": [
    "%cd .."
   ]
  },
  {
   "cell_type": "code",
   "execution_count": null,
   "metadata": {},
   "outputs": [],
   "source": [
    "import os\n",
    "\n",
    "import pandas as pd\n",
    "from dotenv import load_dotenv\n",
    "from langchain_core.prompts import PromptTemplate\n",
    "from langchain_openai import ChatOpenAI\n",
    "\n",
    "from prompts import load_template\n",
    "from utils import create_experiment_file_name"
   ]
  },
  {
   "cell_type": "markdown",
   "metadata": {},
   "source": [
    ".env 파일에 다음과 같은 형식으로 platform.openai.com에서 발급받은 토큰을 넣어주세요\n",
    "\n",
    "```bash\n",
    "HF_TOKEN={your_hf_token}    # 기존 .env\n",
    "OPENAI_APIT_KEY={your_openai_token} # 추가할 토큰\n",
    "```\n"
   ]
  },
  {
   "cell_type": "code",
   "execution_count": null,
   "metadata": {},
   "outputs": [],
   "source": [
    "load_dotenv()\n",
    "OPENAI_API_KEY = os.getenv(\"OPENAI_API_KEY\")"
   ]
  },
  {
   "cell_type": "code",
   "execution_count": null,
   "metadata": {},
   "outputs": [
    {
     "data": {
      "text/html": [
       "<div>\n",
       "<style scoped>\n",
       "    .dataframe tbody tr th:only-of-type {\n",
       "        vertical-align: middle;\n",
       "    }\n",
       "\n",
       "    .dataframe tbody tr th {\n",
       "        vertical-align: top;\n",
       "    }\n",
       "\n",
       "    .dataframe thead th {\n",
       "        text-align: right;\n",
       "    }\n",
       "</style>\n",
       "<table border=\"1\" class=\"dataframe\">\n",
       "  <thead>\n",
       "    <tr style=\"text-align: right;\">\n",
       "      <th></th>\n",
       "      <th>id</th>\n",
       "      <th>paragraph</th>\n",
       "      <th>question</th>\n",
       "      <th>choices</th>\n",
       "      <th>answer</th>\n",
       "      <th>question_plus</th>\n",
       "    </tr>\n",
       "  </thead>\n",
       "  <tbody>\n",
       "    <tr>\n",
       "      <th>0</th>\n",
       "      <td>generation-for-nlp-425</td>\n",
       "      <td>상소하여 아뢰기를 , “신이 좌참 찬 송준길이 올린 차자를 보았는데 , 상복(喪服)...</td>\n",
       "      <td>상소한 인물이 속한 붕당에 대한 설명으로 옳은 것만을 모두 고르면?</td>\n",
       "      <td>['ㄱ, ㄴ', 'ㄱ, ㄷ', 'ㄴ, ㄹ', 'ㄷ, ㄹ']</td>\n",
       "      <td>2</td>\n",
       "      <td>ㄱ.기 사환국으로 정권을 장악하였다 .ㄴ.인 조반정을 주도 하여 집권세력이 되었다 ...</td>\n",
       "    </tr>\n",
       "    <tr>\n",
       "      <th>1</th>\n",
       "      <td>generation-for-nlp-427</td>\n",
       "      <td>나는 삼한(三韓) 산천의 음덕을 입어 대업을 이루었다.(가)는/은 수덕(水德)이 순...</td>\n",
       "      <td>(가) 지역에 대한 설명으로 옳은 것은?</td>\n",
       "      <td>['이곳에 대장도감을 설치하여 재조대장경을 만들었다.', '지눌이 이곳에서 수선사 ...</td>\n",
       "      <td>4</td>\n",
       "      <td>NaN</td>\n",
       "    </tr>\n",
       "    <tr>\n",
       "      <th>2</th>\n",
       "      <td>generation-for-nlp-428</td>\n",
       "      <td>이 날 소정방이 부총관 김인문 등과 함께 기 벌포에 도착하여 백제 군사와 마주쳤다....</td>\n",
       "      <td>밑줄 친 ‘그’에 대한 설명으로 옳은 것은?</td>\n",
       "      <td>['살수에서 수의 군대를 물리쳤다 .', '김춘추 의 신라 왕위 계승을 지원하였다 ...</td>\n",
       "      <td>2</td>\n",
       "      <td>NaN</td>\n",
       "    </tr>\n",
       "    <tr>\n",
       "      <th>3</th>\n",
       "      <td>generation-for-nlp-429</td>\n",
       "      <td>선비들 수만 명이 대궐 앞에 모여 만 동묘와 서원을 다시 설립할 것을 청하니, (가...</td>\n",
       "      <td>(가) 인물이 추진한 정책으로 옳지 않은 것은?</td>\n",
       "      <td>['사창제를 실시하였다 .', '대전회통을 편찬하였다 .', '비변사의 기능을 강화...</td>\n",
       "      <td>3</td>\n",
       "      <td>NaN</td>\n",
       "    </tr>\n",
       "    <tr>\n",
       "      <th>4</th>\n",
       "      <td>generation-for-nlp-431</td>\n",
       "      <td>(가)의 사신 고제덕 등이 일본에 와서 왕이 보낸 국서를 전하였다. 그 국서에 이르...</td>\n",
       "      <td>(가) 국가에 대한 설명으로 옳은 것은?</td>\n",
       "      <td>['나 당연합군의 공격으로 멸망하였다 .', '9주 5소경의 지방 행정 구역을 두었...</td>\n",
       "      <td>3</td>\n",
       "      <td>NaN</td>\n",
       "    </tr>\n",
       "  </tbody>\n",
       "</table>\n",
       "</div>"
      ],
      "text/plain": [
       "                       id                                          paragraph  \\\n",
       "0  generation-for-nlp-425  상소하여 아뢰기를 , “신이 좌참 찬 송준길이 올린 차자를 보았는데 , 상복(喪服)...   \n",
       "1  generation-for-nlp-427  나는 삼한(三韓) 산천의 음덕을 입어 대업을 이루었다.(가)는/은 수덕(水德)이 순...   \n",
       "2  generation-for-nlp-428  이 날 소정방이 부총관 김인문 등과 함께 기 벌포에 도착하여 백제 군사와 마주쳤다....   \n",
       "3  generation-for-nlp-429  선비들 수만 명이 대궐 앞에 모여 만 동묘와 서원을 다시 설립할 것을 청하니, (가...   \n",
       "4  generation-for-nlp-431  (가)의 사신 고제덕 등이 일본에 와서 왕이 보낸 국서를 전하였다. 그 국서에 이르...   \n",
       "\n",
       "                                question  \\\n",
       "0  상소한 인물이 속한 붕당에 대한 설명으로 옳은 것만을 모두 고르면?   \n",
       "1                 (가) 지역에 대한 설명으로 옳은 것은?   \n",
       "2               밑줄 친 ‘그’에 대한 설명으로 옳은 것은?   \n",
       "3             (가) 인물이 추진한 정책으로 옳지 않은 것은?   \n",
       "4                 (가) 국가에 대한 설명으로 옳은 것은?   \n",
       "\n",
       "                                             choices  answer  \\\n",
       "0                   ['ㄱ, ㄴ', 'ㄱ, ㄷ', 'ㄴ, ㄹ', 'ㄷ, ㄹ']       2   \n",
       "1  ['이곳에 대장도감을 설치하여 재조대장경을 만들었다.', '지눌이 이곳에서 수선사 ...       4   \n",
       "2  ['살수에서 수의 군대를 물리쳤다 .', '김춘추 의 신라 왕위 계승을 지원하였다 ...       2   \n",
       "3  ['사창제를 실시하였다 .', '대전회통을 편찬하였다 .', '비변사의 기능을 강화...       3   \n",
       "4  ['나 당연합군의 공격으로 멸망하였다 .', '9주 5소경의 지방 행정 구역을 두었...       3   \n",
       "\n",
       "                                       question_plus  \n",
       "0  ㄱ.기 사환국으로 정권을 장악하였다 .ㄴ.인 조반정을 주도 하여 집권세력이 되었다 ...  \n",
       "1                                                NaN  \n",
       "2                                                NaN  \n",
       "3                                                NaN  \n",
       "4                                                NaN  "
      ]
     },
     "execution_count": 4,
     "metadata": {},
     "output_type": "execute_result"
    }
   ],
   "source": [
    "DATA_DIR = \"data\"\n",
    "RESULT_DIR = \"experiments\"\n",
    "TARGET_DATA = \"train_v2.0.1.csv\"\n",
    "EXP_VERSION = \"v0.0.1\"  # 컨벤션에 따라 새롭게 실험할 경우 버저닝 정보를 기록해주세요.\n",
    "\n",
    "datasets = pd.read_csv(os.path.join(DATA_DIR, TARGET_DATA))\n",
    "datasets.head()"
   ]
  },
  {
   "cell_type": "code",
   "execution_count": null,
   "metadata": {},
   "outputs": [
    {
     "name": "stdout",
     "output_type": "stream",
     "text": [
      "나는 삼한(三韓) 산천의 음덕을 입어 대업을 이루었다.(가)는/은 수덕(水德)이 순조로워 우리나라 지맥의 뿌리가 되니 대업을 만대에 전할 땅이다. 왕은 춘하 추동네 계절의 중간달에 그곳에 가 100일 이상 머물러서 나라를 안녕케 하라. － 고려사－\n",
      "nan\n",
      "(가) 지역에 대한 설명으로 옳은 것은?\n",
      "['이곳에 대장도감을 설치하여 재조대장경을 만들었다.', '지눌이 이곳에서 수선사 결사운동을 펼쳤다.', '망이 ․망소이가 이곳에서 봉기하였다.', '몽골이 이곳에 동녕부를 두었다.']\n"
     ]
    }
   ],
   "source": [
    "PARAGRAPH = \"paragraph\"\n",
    "QUESTION = \"question\"\n",
    "CHOICES = \"choices\"\n",
    "QUESTION_PLUS = \"question_plus\"\n",
    "\n",
    "sample = datasets.iloc[1]\n",
    "sample_paragraph = sample[PARAGRAPH]\n",
    "sample_question = sample[QUESTION]\n",
    "sample_choices = sample[CHOICES]\n",
    "sample_question_plus = str(sample[QUESTION_PLUS])\n",
    "\n",
    "print(\"\\n\".join([sample_paragraph, sample_question_plus, sample_question, sample_choices]))"
   ]
  },
  {
   "cell_type": "markdown",
   "metadata": {},
   "source": [
    "프롬프트는 역할 부여, Instruction prompting, 3-shots 기법을 사용했습니다.\n"
   ]
  },
  {
   "cell_type": "code",
   "execution_count": null,
   "metadata": {},
   "outputs": [],
   "source": [
    "prompt = PromptTemplate.from_template(\n",
    "    template=load_template(file_name=\"information_source.txt\", template_type=\"data_classification\")\n",
    ")"
   ]
  },
  {
   "cell_type": "code",
   "execution_count": null,
   "metadata": {},
   "outputs": [],
   "source": [
    "llm = ChatOpenAI(\n",
    "    model=\"gpt-4o-mini\", temperature=0, max_tokens=None, timeout=None, max_retries=2, api_key=OPENAI_API_KEY\n",
    ")\n",
    "\n",
    "domain_classifier = prompt | llm"
   ]
  },
  {
   "cell_type": "code",
   "execution_count": null,
   "metadata": {},
   "outputs": [],
   "source": [
    "def classify_problem(data: pd.Series) -> str:\n",
    "    \"\"\"프롬프트에 따라 LLM이 문제 데이터를 분류하고 결과를 문자열로 반환하는 함수\n",
    "\n",
    "    Args:\n",
    "        data (pd.Series): 제공된 데이터셋의 한 행(row), 문제 하나\n",
    "\n",
    "    Returns:\n",
    "        str: '내적 추론' 혹은 '외적 추론'으로 분류된 카테고리 명\n",
    "    \"\"\"\n",
    "    response = domain_classifier.invoke(\n",
    "        {\n",
    "            \"paragraph\": data[PARAGRAPH],\n",
    "            \"question\": data[QUESTION],\n",
    "            \"question_plus\": data[QUESTION_PLUS],\n",
    "            \"choices\": data[CHOICES],\n",
    "        },\n",
    "    )\n",
    "    return response.content"
   ]
  },
  {
   "cell_type": "markdown",
   "metadata": {},
   "source": [
    "간단한 실험을 위해 20개 데이터를 추출하여 결과를 보겠습니다.\n"
   ]
  },
  {
   "cell_type": "code",
   "execution_count": null,
   "metadata": {},
   "outputs": [
    {
     "data": {
      "text/html": [
       "<div>\n",
       "<style scoped>\n",
       "    .dataframe tbody tr th:only-of-type {\n",
       "        vertical-align: middle;\n",
       "    }\n",
       "\n",
       "    .dataframe tbody tr th {\n",
       "        vertical-align: top;\n",
       "    }\n",
       "\n",
       "    .dataframe thead th {\n",
       "        text-align: right;\n",
       "    }\n",
       "</style>\n",
       "<table border=\"1\" class=\"dataframe\">\n",
       "  <thead>\n",
       "    <tr style=\"text-align: right;\">\n",
       "      <th></th>\n",
       "      <th>id</th>\n",
       "      <th>paragraph</th>\n",
       "      <th>question</th>\n",
       "      <th>choices</th>\n",
       "      <th>answer</th>\n",
       "      <th>question_plus</th>\n",
       "      <th>category</th>\n",
       "    </tr>\n",
       "  </thead>\n",
       "  <tbody>\n",
       "    <tr>\n",
       "      <th>1190</th>\n",
       "      <td>generation-for-nlp-2237</td>\n",
       "      <td>대안학교는 중·고교만 있는 게 아니다. 20대를 위한 대안학교도 있다. 급변하는 지...</td>\n",
       "      <td>융합인재사관학교(융합사)의 설립 목적은 무엇인가?</td>\n",
       "      <td>['청년인재 양성', '대학 진학 지원', '취업 알선', '예술 교육 강화', '...</td>\n",
       "      <td>1</td>\n",
       "      <td>NaN</td>\n",
       "      <td>내적 추론</td>\n",
       "    </tr>\n",
       "    <tr>\n",
       "      <th>242</th>\n",
       "      <td>generation-for-nlp-762</td>\n",
       "      <td>대일 수출     달러에 대한 수요     달러의 가치</td>\n",
       "      <td>일본 경제가 장기적인 경기 침체를 겪고 있다고 가정하겠습니다. 일본 가계 소득 감소...</td>\n",
       "      <td>['감소 \\xa0\\xa0\\xa0 감소 \\xa0\\xa0\\xa0 감소', '감소 \\xa...</td>\n",
       "      <td>1</td>\n",
       "      <td>NaN</td>\n",
       "      <td>외적 추론</td>\n",
       "    </tr>\n",
       "    <tr>\n",
       "      <th>876</th>\n",
       "      <td>generation-for-nlp-1712</td>\n",
       "      <td>추가 서비스마다 요금을 받기로 유명한 저비용항공사(LCC) 스피릿항공이 미국 소비자...</td>\n",
       "      <td>미국 소비자 만족도 조사에서 최하위를 기록한 저비용항공사는 무엇인가?</td>\n",
       "      <td>['스피릿항공', '제트블루항공', '델타항공', '아메리칸항공', '유나이티드항공']</td>\n",
       "      <td>1</td>\n",
       "      <td>NaN</td>\n",
       "      <td>내적 추론</td>\n",
       "    </tr>\n",
       "    <tr>\n",
       "      <th>264</th>\n",
       "      <td>generation-for-nlp-791</td>\n",
       "      <td>희소성은 다음과 같이 정의할 수 있습니다.</td>\n",
       "      <td>희소성에 대한 정의로 옳은 것은?</td>\n",
       "      <td>['제한된 욕구와 제한된 경제적 자원 간 차이.', '행위의 총 편익과 해당 행위의...</td>\n",
       "      <td>3</td>\n",
       "      <td>NaN</td>\n",
       "      <td>내적 추론</td>\n",
       "    </tr>\n",
       "    <tr>\n",
       "      <th>1168</th>\n",
       "      <td>generation-for-nlp-2206</td>\n",
       "      <td>군(軍) 복무 중 원격강의를 통해 학점을 따는 사병은 연 1만명 정도로 전체 사병의...</td>\n",
       "      <td>군 복무 중 학점을 부여하는 방안에 대해 반대하는 측의 주장은 무엇인가?</td>\n",
       "      <td>['군 복무자에게 지나친 특혜가 된다', '군 복무 중 학점 인정이 국제적으로 인정...</td>\n",
       "      <td>2</td>\n",
       "      <td>NaN</td>\n",
       "      <td>내적 추론</td>\n",
       "    </tr>\n",
       "  </tbody>\n",
       "</table>\n",
       "</div>"
      ],
      "text/plain": [
       "                           id  \\\n",
       "1190  generation-for-nlp-2237   \n",
       "242    generation-for-nlp-762   \n",
       "876   generation-for-nlp-1712   \n",
       "264    generation-for-nlp-791   \n",
       "1168  generation-for-nlp-2206   \n",
       "\n",
       "                                              paragraph  \\\n",
       "1190  대안학교는 중·고교만 있는 게 아니다. 20대를 위한 대안학교도 있다. 급변하는 지...   \n",
       "242                      대일 수출     달러에 대한 수요     달러의 가치   \n",
       "876   추가 서비스마다 요금을 받기로 유명한 저비용항공사(LCC) 스피릿항공이 미국 소비자...   \n",
       "264                             희소성은 다음과 같이 정의할 수 있습니다.   \n",
       "1168  군(軍) 복무 중 원격강의를 통해 학점을 따는 사병은 연 1만명 정도로 전체 사병의...   \n",
       "\n",
       "                                               question  \\\n",
       "1190                        융합인재사관학교(융합사)의 설립 목적은 무엇인가?   \n",
       "242   일본 경제가 장기적인 경기 침체를 겪고 있다고 가정하겠습니다. 일본 가계 소득 감소...   \n",
       "876              미국 소비자 만족도 조사에서 최하위를 기록한 저비용항공사는 무엇인가?   \n",
       "264                                  희소성에 대한 정의로 옳은 것은?   \n",
       "1168           군 복무 중 학점을 부여하는 방안에 대해 반대하는 측의 주장은 무엇인가?   \n",
       "\n",
       "                                                choices  answer question_plus  \\\n",
       "1190  ['청년인재 양성', '대학 진학 지원', '취업 알선', '예술 교육 강화', '...       1           NaN   \n",
       "242   ['감소 \\xa0\\xa0\\xa0 감소 \\xa0\\xa0\\xa0 감소', '감소 \\xa...       1           NaN   \n",
       "876    ['스피릿항공', '제트블루항공', '델타항공', '아메리칸항공', '유나이티드항공']       1           NaN   \n",
       "264   ['제한된 욕구와 제한된 경제적 자원 간 차이.', '행위의 총 편익과 해당 행위의...       3           NaN   \n",
       "1168  ['군 복무자에게 지나친 특혜가 된다', '군 복무 중 학점 인정이 국제적으로 인정...       2           NaN   \n",
       "\n",
       "     category  \n",
       "1190    내적 추론  \n",
       "242     외적 추론  \n",
       "876     내적 추론  \n",
       "264     내적 추론  \n",
       "1168    내적 추론  "
      ]
     },
     "execution_count": 9,
     "metadata": {},
     "output_type": "execute_result"
    }
   ],
   "source": [
    "sampled_datasets: pd.DataFrame = datasets.sample(20, random_state=1004)\n",
    "sampled_datasets[\"category\"] = sampled_datasets.apply(classify_problem, axis=1)\n",
    "sampled_datasets.head()"
   ]
  },
  {
   "cell_type": "code",
   "execution_count": 10,
   "metadata": {},
   "outputs": [],
   "source": [
    "result_file_name = create_experiment_file_name(target_file=TARGET_DATA, version=EXP_VERSION)\n",
    "result_file_path = os.path.join(DATA_DIR, RESULT_DIR, result_file_name)\n",
    "sampled_datasets.to_csv(result_file_path, index=False)\n",
    "# TODO: 새롭게 이슈 및 브랜치 생성해서 스트림릿 작업하기"
   ]
  },
  {
   "cell_type": "markdown",
   "metadata": {},
   "source": [
    "`data/classificaion_experiment.csv` 파일로 저장된 위 실험 결과를 다음 명령어로 확인해주시길 바랍니다.\n",
    "\n",
    "```bash\n",
    "$ streamlit run {TODO 주석 참고}\n",
    "```\n"
   ]
  }
 ],
 "metadata": {
  "kernelspec": {
   "display_name": ".venv",
   "language": "python",
   "name": "python3"
  },
  "language_info": {
   "codemirror_mode": {
    "name": "ipython",
    "version": 3
   },
   "file_extension": ".py",
   "mimetype": "text/x-python",
   "name": "python",
   "nbconvert_exporter": "python",
   "pygments_lexer": "ipython3",
   "version": "3.11.0"
  }
 },
 "nbformat": 4,
 "nbformat_minor": 2
}
