{
 "cells": [
  {
   "cell_type": "code",
   "execution_count": null,
   "metadata": {},
   "outputs": [],
   "source": [
    "%cd .."
   ]
  },
  {
   "cell_type": "code",
   "execution_count": null,
   "metadata": {},
   "outputs": [
    {
     "name": "stderr",
     "output_type": "stream",
     "text": [
      "/Users/chan/boostcamp-project/level2-nlp-generationfornlp-nlp-06-lv3/.venv/lib/python3.11/site-packages/tqdm/auto.py:21: TqdmWarning: IProgress not found. Please update jupyter and ipywidgets. See https://ipywidgets.readthedocs.io/en/stable/user_install.html\n",
      "  from .autonotebook import tqdm as notebook_tqdm\n"
     ]
    }
   ],
   "source": [
    "from augments import (\n",
    "    Classification,\n",
    "    KeywordsExtractor,\n",
    "    ParagraphGenerator,\n",
    "    ParagraphTrimmer,\n",
    "    Reasoning,\n",
    "    Summarizer,\n",
    "    WikipediaCrawler,\n",
    ")"
   ]
  },
  {
   "cell_type": "markdown",
   "metadata": {},
   "source": [
    "외부 지식이 필요한지 여부를 판단하기 앞서, 문제와 답변을 주고 풀이 과정을 추론하게 한다.\n"
   ]
  },
  {
   "cell_type": "code",
   "execution_count": null,
   "metadata": {},
   "outputs": [
    {
     "name": "stderr",
     "output_type": "stream",
     "text": [
      "100%|██████████| 5/5 [00:22<00:00,  4.49s/it]\n"
     ]
    }
   ],
   "source": [
    "reasoning = Reasoning()\n",
    "sampled = 5  # 5개 샘플로 실험\n",
    "reasoning.sample_data(n=sampled)\n",
    "reasoning.process()\n",
    "# reasoning.data    # 풀이 과정 추론 확인"
   ]
  },
  {
   "cell_type": "markdown",
   "metadata": {},
   "source": [
    "문제 풀이 과정과 문제를 통해 외부 지식이 필요한지 여부를 확인한다.\n",
    "\n",
    "- 내적 추론: 외부 지식이 필요 없는 문제\n",
    "- 외적 추론: 외부 지식이 필요한 문제\n"
   ]
  },
  {
   "cell_type": "code",
   "execution_count": null,
   "metadata": {},
   "outputs": [
    {
     "name": "stderr",
     "output_type": "stream",
     "text": [
      "100%|██████████| 5/5 [00:08<00:00,  1.66s/it]\n"
     ]
    }
   ],
   "source": [
    "classification = Classification(data=reasoning.data)\n",
    "classification.process()\n",
    "# classification.data   # 분류 확인"
   ]
  },
  {
   "cell_type": "markdown",
   "metadata": {},
   "source": [
    "분류한 문제 중 외부 지식이 필요한 문제에서 위키피디아 문서 검색 키워드를 추출한다.\n"
   ]
  },
  {
   "cell_type": "code",
   "execution_count": null,
   "metadata": {},
   "outputs": [
    {
     "name": "stderr",
     "output_type": "stream",
     "text": [
      "100%|██████████| 2/2 [00:01<00:00,  1.04it/s]\n"
     ]
    }
   ],
   "source": [
    "keyword_extraction = KeywordsExtractor(data=classification.data)\n",
    "keyword_extraction.process()\n",
    "# keyword_extraction.data   # 추출된 키워드 확인"
   ]
  },
  {
   "cell_type": "markdown",
   "metadata": {},
   "source": [
    "추출된 검색 키워드로 해당 위키피디아 문서를 크롤링한다.\n"
   ]
  },
  {
   "cell_type": "code",
   "execution_count": null,
   "metadata": {},
   "outputs": [
    {
     "name": "stderr",
     "output_type": "stream",
     "text": [
      "Crawling Wikipedia: 100%|██████████| 2/2 [00:08<00:00,  4.19s/it]\n"
     ]
    }
   ],
   "source": [
    "wikipedia_crawler = WikipediaCrawler(data=keyword_extraction.data)\n",
    "wikipedia_crawler.crawl()\n",
    "# wikipedia_crawler.data    # 크롤링된 문서 확인"
   ]
  },
  {
   "cell_type": "markdown",
   "metadata": {},
   "source": [
    "키워드 별 크롤링된 문서를 추출한 키워드와 같이 요약한다.\n"
   ]
  },
  {
   "cell_type": "code",
   "execution_count": null,
   "metadata": {},
   "outputs": [
    {
     "name": "stderr",
     "output_type": "stream",
     "text": [
      "100%|██████████| 2/2 [00:15<00:00,  7.64s/it]\n",
      "100%|██████████| 2/2 [00:18<00:00,  9.06s/it]\n",
      "100%|██████████| 2/2 [00:13<00:00,  6.53s/it]\n",
      "100%|██████████| 2/2 [00:14<00:00,  7.15s/it]\n",
      "100%|██████████| 2/2 [00:12<00:00,  6.29s/it]\n"
     ]
    }
   ],
   "source": [
    "summarizer = Summarizer(data=wikipedia_crawler.data)\n",
    "summarizer.process()\n",
    "# summarizer.data       # 요약된 키워드 별 문서 확인"
   ]
  },
  {
   "cell_type": "markdown",
   "metadata": {},
   "source": [
    "요약문을 하나의 지문으로 취합한다.\n"
   ]
  },
  {
   "cell_type": "code",
   "execution_count": null,
   "metadata": {},
   "outputs": [
    {
     "name": "stderr",
     "output_type": "stream",
     "text": [
      "100%|██████████| 2/2 [00:13<00:00,  6.91s/it]\n"
     ]
    }
   ],
   "source": [
    "paragraph_generator = ParagraphGenerator(data=summarizer.data)\n",
    "paragraph_generator.process()\n",
    "# paragraph_generator.data      # 취합한 지문 확인"
   ]
  },
  {
   "cell_type": "markdown",
   "metadata": {},
   "source": [
    "취합한 지문을 수능 비문학 국어 형식으로 다듬는다.\n"
   ]
  },
  {
   "cell_type": "code",
   "execution_count": null,
   "metadata": {},
   "outputs": [
    {
     "name": "stderr",
     "output_type": "stream",
     "text": [
      "100%|██████████| 2/2 [00:22<00:00, 11.46s/it]\n"
     ]
    }
   ],
   "source": [
    "paragraph_trimmer = ParagraphTrimmer(data=paragraph_generator.data)\n",
    "paragraph_trimmer.process()"
   ]
  },
  {
   "cell_type": "code",
   "execution_count": null,
   "metadata": {},
   "outputs": [
    {
     "data": {
      "text/html": [
       "<div>\n",
       "<style scoped>\n",
       "    .dataframe tbody tr th:only-of-type {\n",
       "        vertical-align: middle;\n",
       "    }\n",
       "\n",
       "    .dataframe tbody tr th {\n",
       "        vertical-align: top;\n",
       "    }\n",
       "\n",
       "    .dataframe thead th {\n",
       "        text-align: right;\n",
       "    }\n",
       "</style>\n",
       "<table border=\"1\" class=\"dataframe\">\n",
       "  <thead>\n",
       "    <tr style=\"text-align: right;\">\n",
       "      <th></th>\n",
       "      <th>paragraph</th>\n",
       "      <th>question_plus</th>\n",
       "      <th>question</th>\n",
       "      <th>choices</th>\n",
       "      <th>answer</th>\n",
       "    </tr>\n",
       "  </thead>\n",
       "  <tbody>\n",
       "    <tr>\n",
       "      <th>535</th>\n",
       "      <td>마커스 가비는 20세기 초 아프리카계 미국인들의 권리와 정체성을 주장하며, 아프리카...</td>\n",
       "      <td>\"우리는 인간이다. 세상의 다른 인종과 같이 영혼, 열정, 감정, 희망, 욕망이 있...</td>\n",
       "      <td>위 구절이 미국 역사에서 진행 중인 논쟁 중 제시하는 입장은?</td>\n",
       "      <td>['외교정책에서 개입주의와 고립주의 간 논쟁.', '미국 사회에서 아프리카계 미국인...</td>\n",
       "      <td>2</td>\n",
       "    </tr>\n",
       "    <tr>\n",
       "      <th>443</th>\n",
       "      <td>모래와 백금은 각각 독특한 물리적 및 화학적 특성을 지니고 있으며, 이러한 특성은 ...</td>\n",
       "      <td>우리가 모래의 맛을 느끼거나 백금 냄새를 맡을 수 없는 주된 이유는 다음과 같습니다.</td>\n",
       "      <td>우리가 모래의 맛을 느끼거나 백금 냄새를 맡을 수 없는 주된 이유는 무엇인가?</td>\n",
       "      <td>['그것들은 화학물질이 아님', '그것들은 수용성이 아님', '그것들은 유독함', ...</td>\n",
       "      <td>2</td>\n",
       "    </tr>\n",
       "  </tbody>\n",
       "</table>\n",
       "</div>"
      ],
      "text/plain": [
       "                                             paragraph  \\\n",
       "535  마커스 가비는 20세기 초 아프리카계 미국인들의 권리와 정체성을 주장하며, 아프리카...   \n",
       "443  모래와 백금은 각각 독특한 물리적 및 화학적 특성을 지니고 있으며, 이러한 특성은 ...   \n",
       "\n",
       "                                         question_plus  \\\n",
       "535  \"우리는 인간이다. 세상의 다른 인종과 같이 영혼, 열정, 감정, 희망, 욕망이 있...   \n",
       "443    우리가 모래의 맛을 느끼거나 백금 냄새를 맡을 수 없는 주된 이유는 다음과 같습니다.   \n",
       "\n",
       "                                        question  \\\n",
       "535           위 구절이 미국 역사에서 진행 중인 논쟁 중 제시하는 입장은?   \n",
       "443  우리가 모래의 맛을 느끼거나 백금 냄새를 맡을 수 없는 주된 이유는 무엇인가?   \n",
       "\n",
       "                                               choices  answer  \n",
       "535  ['외교정책에서 개입주의와 고립주의 간 논쟁.', '미국 사회에서 아프리카계 미국인...       2  \n",
       "443  ['그것들은 화학물질이 아님', '그것들은 수용성이 아님', '그것들은 유독함', ...       2  "
      ]
     },
     "execution_count": 9,
     "metadata": {},
     "output_type": "execute_result"
    }
   ],
   "source": [
    "paragraph_trimmer.data"
   ]
  }
 ],
 "metadata": {
  "kernelspec": {
   "display_name": ".venv",
   "language": "python",
   "name": "python3"
  },
  "language_info": {
   "codemirror_mode": {
    "name": "ipython",
    "version": 3
   },
   "file_extension": ".py",
   "mimetype": "text/x-python",
   "name": "python",
   "nbconvert_exporter": "python",
   "pygments_lexer": "ipython3",
   "version": "3.11.0"
  }
 },
 "nbformat": 4,
 "nbformat_minor": 2
}
