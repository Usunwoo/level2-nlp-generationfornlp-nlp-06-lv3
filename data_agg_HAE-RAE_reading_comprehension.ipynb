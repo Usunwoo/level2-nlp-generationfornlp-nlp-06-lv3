{
 "cells": [
  {
   "cell_type": "code",
   "execution_count": null,
   "metadata": {},
   "outputs": [],
   "source": [
    "from tqdm import tqdm"
   ]
  },
  {
   "cell_type": "markdown",
   "metadata": {},
   "source": [
    "HAE-RAE 데이터들이 Parquet 포맷으로 제공되어서 먼저 csv로 변환해준다\n"
   ]
  },
  {
   "cell_type": "code",
   "execution_count": null,
   "metadata": {},
   "outputs": [
    {
     "name": "stdout",
     "output_type": "stream",
     "text": [
      "변환 완료: standard_nomenclature-00000-of-00001-52814989a6843328.parquet → ./data/agg_other_benchmarks/HAE-RAE/standard_nomenclature-00000-of-00001-52814989a6843328.csv\n",
      "변환 완료: csat_law-00000-of-00001-ef0ec0fac2f2238f.parquet → ./data/agg_other_benchmarks/HAE-RAE/csat_law-00000-of-00001-ef0ec0fac2f2238f.csv\n",
      "변환 완료: lyrics_denoising-00000-of-00001-ede1ce975e9bad54.parquet → ./data/agg_other_benchmarks/HAE-RAE/lyrics_denoising-00000-of-00001-ede1ce975e9bad54.csv\n",
      "변환 완료: general_knowledge-00000-of-00001-7418d1a0b8c4a615.parquet → ./data/agg_other_benchmarks/HAE-RAE/general_knowledge-00000-of-00001-7418d1a0b8c4a615.csv\n",
      "변환 완료: history-00000-of-00001-9ad551d475d58413.parquet → ./data/agg_other_benchmarks/HAE-RAE/history-00000-of-00001-9ad551d475d58413.csv\n",
      "변환 완료: rare_words-00000-of-00001-4f34314c09209524.parquet → ./data/agg_other_benchmarks/HAE-RAE/rare_words-00000-of-00001-4f34314c09209524.csv\n",
      "변환 완료: csat_socio-00000-of-00001-0cfadd93827d0d48.parquet → ./data/agg_other_benchmarks/HAE-RAE/csat_socio-00000-of-00001-0cfadd93827d0d48.csv\n",
      "변환 완료: loan_words-00000-of-00001-96ed08632b9a2ae8.parquet → ./data/agg_other_benchmarks/HAE-RAE/loan_words-00000-of-00001-96ed08632b9a2ae8.csv\n",
      "변환 완료: proverbs_denoising-00000-of-00001-f274ad136676b2e3.parquet → ./data/agg_other_benchmarks/HAE-RAE/proverbs_denoising-00000-of-00001-f274ad136676b2e3.csv\n",
      "변환 완료: date_understanding-00000-of-00001-36887d05afd4c57f.parquet → ./data/agg_other_benchmarks/HAE-RAE/date_understanding-00000-of-00001-36887d05afd4c57f.csv\n",
      "변환 완료: reading_comprehension-00000-of-00001-f9c8df20c22e46d0.parquet → ./data/agg_other_benchmarks/HAE-RAE/reading_comprehension-00000-of-00001-f9c8df20c22e46d0.csv\n",
      "변환 완료: correct_definition_matching-00000-of-00001-65122a307e90d70a.parquet → ./data/agg_other_benchmarks/HAE-RAE/correct_definition_matching-00000-of-00001-65122a307e90d70a.csv\n",
      "변환 완료: csat_geo-00000-of-00001-68ce37d4952173a9.parquet → ./data/agg_other_benchmarks/HAE-RAE/csat_geo-00000-of-00001-68ce37d4952173a9.csv\n"
     ]
    }
   ],
   "source": [
    "import os\n",
    "\n",
    "import pandas as pd\n",
    "\n",
    "# 변환할 폴더 경로\n",
    "input_folder = \"./data/agg_other_benchmarks/HAE-RAE\"  # Parquet 파일이 있는 폴더\n",
    "output_folder = \"./data/agg_other_benchmarks/HAE-RAE\"  # Parquet 파일 저장 폴더\n",
    "\n",
    "# 폴더 내 모든 파일 처리\n",
    "for file_name in os.listdir(input_folder):\n",
    "    if file_name.endswith(\".parquet\"):  # Parquet 파일만 선택\n",
    "        input_path = os.path.join(input_folder, file_name)\n",
    "        output_path = os.path.join(output_folder, file_name.replace(\".parquet\", \".csv\"))\n",
    "\n",
    "        # Parquet → CSV 변환\n",
    "        try:\n",
    "            df = pd.read_parquet(input_path, engine=\"pyarrow\")  # Parquet 파일 읽기\n",
    "            df.to_csv(output_path, index=False, encoding=\"utf-8\")  # CSV 파일 저장\n",
    "            print(f\"변환 완료: {file_name} → {output_path}\")\n",
    "        except Exception as e:\n",
    "            print(f\"변환 실패: {file_name} - {e}\")"
   ]
  },
  {
   "cell_type": "markdown",
   "metadata": {},
   "source": [
    "기존 Train 데이터의 형식은 다음과 같다\n",
    "id,paragraph,question,choices,answer,question_plus\n",
    "\n",
    "HAE-RAE 데이터는\n",
    "query,options,answer 와 같은 형식으로 구성 돼 있다.\n",
    "query 안에 지문, 질문, 선택지가 있고, options 안에 선택지가 또 있다.\n",
    "answer은 알파벳 A,B,C,D,E로 돼있다.\n"
   ]
  },
  {
   "cell_type": "markdown",
   "metadata": {},
   "source": [
    "취합을 위한 데이터 가공 작업의 순서\n",
    "\n",
    "- query 안에서 지문, 질문, 선택지를 분리한다.\n",
    "- 질문은 question 칼럼에 옮겨준다\n",
    "- 선택지 부분은 지워준다 (options 부분에 있으므로)\n",
    "- query 안에는 지문만 남겨준다\n",
    "\n",
    "- answer은 각 알파벳을 숫자로 변환해준다 (A는 1, B는 2, C는 3...)\n"
   ]
  },
  {
   "cell_type": "code",
   "execution_count": null,
   "metadata": {},
   "outputs": [],
   "source": [
    "# HAERAE 의 독해 데이터셋을 불러와준다\n",
    "\n",
    "import pandas as pd\n",
    "\n",
    "data_haerae_rc = pd.read_csv(\"./data/agg_other_benchmarks/pending/HAE-RAE_reading_comprehension.csv\")"
   ]
  },
  {
   "cell_type": "markdown",
   "metadata": {},
   "source": [
    "query안의 문자열은 다음과 같이 구분 돼 있다.\n",
    "\n",
    "### 지문:\n",
    "\n",
    "### 질문:\n",
    "\n",
    "### 선택지:\n",
    "\n",
    "이를 이용하여 지문만 남기고, 질문은 question 칼럼으로 옮겨주고 선택지 부분은 지우겠다.\n"
   ]
  },
  {
   "cell_type": "code",
   "execution_count": null,
   "metadata": {},
   "outputs": [],
   "source": [
    "# 정규표현식으로 특정 패턴의 텍스트를 추출하는 함수를 선언해준다\n",
    "\n",
    "import re\n",
    "\n",
    "\n",
    "def extract_after(text, keyword):\n",
    "    pattern = f\"{re.escape(keyword)}(.*)\"  # 키워드 이후 모든 문자열 매칭\n",
    "    match = re.search(pattern, text)\n",
    "    if match:\n",
    "        return match.group(1).strip()  # 키워드 이후 문자열 반환\n",
    "    return None  # 키워드가 없으면 None 반환\n",
    "\n",
    "\n",
    "def extract_between(text, start_keyword, end_keyword):\n",
    "    # 시작과 끝 키워드 사이의 텍스트 추출\n",
    "    pattern = f\"{re.escape(start_keyword)}(.*?){re.escape(end_keyword)}\"\n",
    "    match = re.search(pattern, text, re.DOTALL)  # re.DOTALL은 줄바꿈 포함 매칭\n",
    "    if match:\n",
    "        return match.group(1).strip()\n",
    "    return None\n",
    "\n",
    "\n",
    "# 알파벳을 숫자로 맵핑하는 함수를 만들어준다 (answer 칼럼용)\n",
    "def convert_string_to_number(s):\n",
    "    # 문자열-숫자 매핑 딕셔너리\n",
    "    mapping = {\"(A)\": 1, \"(B)\": 2, \"(C)\": 3, \"(D)\": 4, \"(E)\": 5}\n",
    "    # 매핑에 없는 문자열은 None 반환\n",
    "    return mapping.get(s, None)"
   ]
  },
  {
   "cell_type": "code",
   "execution_count": null,
   "metadata": {},
   "outputs": [],
   "source": [
    "train_agg = pd.read_csv(\"./data/agg_other_benchmarks/train_agg.csv\")\n",
    "data_haerae_rc_agg = pd.DataFrame(columns=train_agg.columns)"
   ]
  },
  {
   "cell_type": "code",
   "execution_count": null,
   "metadata": {},
   "outputs": [
    {
     "name": "stderr",
     "output_type": "stream",
     "text": [
      "  0%|          | 0/936 [00:00<?, ?it/s]"
     ]
    },
    {
     "name": "stderr",
     "output_type": "stream",
     "text": [
      "100%|██████████| 936/936 [00:01<00:00, 884.19it/s]\n"
     ]
    }
   ],
   "source": [
    "count = 0\n",
    "\n",
    "for i in tqdm(range(len(data_haerae_rc))):\n",
    "    id = f\"haerae-rc-{count}\"\n",
    "    query = data_haerae_rc.iloc[i][\"query\"]\n",
    "    passage = extract_between(query, \"### 지문:\", \"### 질문:\")\n",
    "    question = extract_between(query, \"### 질문:\", \"### 선택지:\")\n",
    "    choices = str(data_haerae_rc.iloc[i][\"options\"])\n",
    "    answer = convert_string_to_number(data_haerae_rc.iloc[i][\"answer\"])\n",
    "    df_agg = pd.DataFrame(\n",
    "        [\n",
    "            {\n",
    "                \"id\": id,\n",
    "                \"paragraph\": passage,\n",
    "                \"question\": question,\n",
    "                \"choices\": choices,\n",
    "                \"answer\": answer,\n",
    "                \"question_plus\": None,\n",
    "            }\n",
    "        ]\n",
    "    )\n",
    "    train_agg = pd.concat([train_agg, df_agg], ignore_index=True)\n",
    "    count += 1"
   ]
  },
  {
   "cell_type": "code",
   "execution_count": null,
   "metadata": {},
   "outputs": [],
   "source": [
    "train_agg.to_csv(\"train_agg_haerae_rc.csv\", index=False)"
   ]
  }
 ],
 "metadata": {
  "kernelspec": {
   "display_name": ".venv",
   "language": "python",
   "name": "python3"
  },
  "language_info": {
   "codemirror_mode": {
    "name": "ipython",
    "version": 3
   },
   "file_extension": ".py",
   "mimetype": "text/x-python",
   "name": "python",
   "nbconvert_exporter": "python",
   "pygments_lexer": "ipython3",
   "version": "3.10.13"
  }
 },
 "nbformat": 4,
 "nbformat_minor": 2
}
